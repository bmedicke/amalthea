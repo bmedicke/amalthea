{
 "cells": [
  {
   "cell_type": "markdown",
   "id": "6d8c767f-087a-45c7-9a55-ca7482364de8",
   "metadata": {},
   "source": [
    "# Working with a Pomodoro csv file"
   ]
  },
  {
   "cell_type": "markdown",
   "id": "f878f254-8f33-4894-a333-939beb6d19ef",
   "metadata": {},
   "source": [
    "## tailing a csv file\n",
    "This script shows an image (via Markdown) depending on the last line of a csv file. If it is run with `keep_running` set to `True` it will automatically update when the csv file changes."
   ]
  },
  {
   "cell_type": "code",
   "execution_count": null,
   "id": "f28704e2-1632-4ec7-a66d-da46bae56a31",
   "metadata": {
    "tags": []
   },
   "outputs": [],
   "source": [
    "## from IPython.display import clear_output, display, Markdown\n",
    "from IPython.display import clear_output, display, Markdown\n",
    "from time import sleep\n",
    "import csv\n",
    "import pandas as pd\n",
    "\n",
    "# to run the loop once or endlessly:\n",
    "keep_running = True\n",
    "\n",
    "# keep track of the last csv file line to know if to update the output:\n",
    "previous = None\n",
    "\n",
    "while True:\n",
    "    with open(\"data/pomodoro.log\", \"r\") as f:\n",
    "        # the csv file has a header, so we can create a dict:\n",
    "        reader = csv.DictReader(f, delimiter=\";\")\n",
    "\n",
    "        # assigning all but the last line to the _ list:\n",
    "        *_, last_line = reader\n",
    "\n",
    "        # check for a new line at the end of the csv file:\n",
    "        if previous != last_line:\n",
    "            # clear the ouput cell:\n",
    "            clear_output()\n",
    "            # pandas series can be accessed with dot notation:\n",
    "            series = pd.Series(last_line)\n",
    "            md = None\n",
    "\n",
    "            if series.action == \"pomodoro\":\n",
    "                if series.status == \"start\":\n",
    "                    md = \"![working](data/pomodoro_Artboard_working.svg)\"\n",
    "                elif series.status == \"end\":\n",
    "                    md = \"![](data/pomodoro_Artboard_time_for_a_break.svg)\"\n",
    "            elif series.action == \"break\":\n",
    "                if series.status == \"start\":\n",
    "                    md = \"![](data/pomodoro_Artboard_on_break.svg)\"\n",
    "                elif series.status == \"end\":\n",
    "                    md = \"![](data/pomodoro_Artboard_back_to_work.svg)\"\n",
    "\n",
    "            display(Markdown(md))\n",
    "\n",
    "    if not keep_running:\n",
    "        break\n",
    "\n",
    "    previous = last_line\n",
    "    sleep(2)"
   ]
  },
  {
   "cell_type": "markdown",
   "id": "25f8adc4-6f96-4ad6-aa43-0f8e7276cfc2",
   "metadata": {
    "tags": []
   },
   "source": [
    "## converting an ISO 8601 string into a `datetime` object"
   ]
  },
  {
   "cell_type": "code",
   "execution_count": null,
   "id": "43d6578d-896e-44f3-9959-24ca469bb465",
   "metadata": {
    "tags": []
   },
   "outputs": [],
   "source": [
    "from dateutil import parser as dateparser\n",
    "\n",
    "# pandas Series are also useful for easier access to dicts via dict.key:\n",
    "dt = dateparser.parse(series.datetime)\n",
    "print(type(dt), dt, sep=\"\\n\")\n",
    "\n",
    "# pandas has its own converter:\n",
    "pdt = pd.to_datetime(series.datetime)\n",
    "print(type(pdt), pdt, sep=\"\\n\")"
   ]
  }
 ],
 "metadata": {
  "kernelspec": {
   "display_name": "Python 3",
   "language": "python",
   "name": "python3"
  },
  "language_info": {
   "codemirror_mode": {
    "name": "ipython",
    "version": 3
   },
   "file_extension": ".py",
   "mimetype": "text/x-python",
   "name": "python",
   "nbconvert_exporter": "python",
   "pygments_lexer": "ipython3",
   "version": "3.9.5"
  },
  "toc-autonumbering": false
 },
 "nbformat": 4,
 "nbformat_minor": 5
}
