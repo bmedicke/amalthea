{
 "cells": [
  {
   "cell_type": "markdown",
   "metadata": {},
   "source": [
    "# frequency analysis & caesar cipher"
   ]
  },
  {
   "cell_type": "code",
   "execution_count": null,
   "metadata": {},
   "outputs": [],
   "source": [
    "import string\n",
    "\n",
    "ciphertext = 'IMDGYWAQZZQZUZRADYMFUWQDNQEEQDDQOTZQZMXEYMFTQYMFUWQDIQUXEU' \\\n",
    "             'QYUFUTDQZLQTZRUZSQDZNUEFMGEQZPHUQDGZPLIMZLUSLMQTXQZWAQZZQZ'\n",
    "\n",
    "for char in string.ascii_uppercase:\n",
    "        print(char, ciphertext.count(char),\n",
    "              round(ciphertext.count(char)/len(ciphertext), 2),\n",
    "              sep='\\t')     "
   ]
  },
  {
   "cell_type": "code",
   "execution_count": null,
   "metadata": {},
   "outputs": [],
   "source": [
    "y, x = 'Q', 'E'\n",
    "\n",
    "print(y, 'shifted to', x, 'by',\n",
    "      (ord(x)) - ord(y))"
   ]
  },
  {
   "cell_type": "code",
   "execution_count": null,
   "metadata": {},
   "outputs": [],
   "source": [
    "key = -12 # or +14\n",
    "plaintext = ''\n",
    "\n",
    "for char in ciphertext:\n",
    "    char = ord(char)+key\n",
    "    while char < 65: char += 26\n",
    "    while char > 90: char -= 26\n",
    "    plaintext += chr(int(char))\n",
    "\n",
    "print(ciphertext, plaintext, sep='\\n')"
   ]
  }
 ],
 "metadata": {
  "kernelspec": {
   "display_name": "Python 3",
   "language": "python",
   "name": "python3"
  },
  "language_info": {
   "codemirror_mode": {
    "name": "ipython",
    "version": 3
   },
   "file_extension": ".py",
   "mimetype": "text/x-python",
   "name": "python",
   "nbconvert_exporter": "python",
   "pygments_lexer": "ipython3",
   "version": "3.9.5"
  }
 },
 "nbformat": 4,
 "nbformat_minor": 2
}
