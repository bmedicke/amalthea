{
 "cells": [
  {
   "cell_type": "markdown",
   "id": "a6052ad6-4042-4773-93be-1c2a4aec7493",
   "metadata": {},
   "source": [
    "# Widgets\n",
    "\n",
    "## a button for a start"
   ]
  },
  {
   "cell_type": "code",
   "execution_count": null,
   "id": "59093d3e-a804-4088-8722-68af189dffa6",
   "metadata": {},
   "outputs": [],
   "source": [
    "import ipywidgets as widgets\n",
    "from IPython.display import display\n",
    "\n",
    "button = widgets.Button(description=\"Click Me!\")\n",
    "output = widgets.Output()\n",
    "\n",
    "display(button, output)\n",
    "\n",
    "def on_button_clicked(b):\n",
    "    with output:\n",
    "        print(\"Button clicked.\")\n",
    "\n",
    "button.on_click(on_button_clicked)"
   ]
  },
  {
   "cell_type": "markdown",
   "id": "39b3481b-ae72-4cf8-8f26-f411a50c6720",
   "metadata": {},
   "source": [
    "## full list of widgets\n",
    "\n",
    "https://ipywidgets.readthedocs.io/en/latest/examples/Widget%20List.html\n",
    "\n",
    "## some examples"
   ]
  },
  {
   "cell_type": "code",
   "execution_count": null,
   "id": "92674cbf-98d4-4c9a-8e92-c312b73bd3d1",
   "metadata": {},
   "outputs": [],
   "source": [
    "widgets.IntSlider()"
   ]
  },
  {
   "cell_type": "code",
   "execution_count": null,
   "id": "ae73bc43-bdd4-4c84-843c-081794aa4e4c",
   "metadata": {},
   "outputs": [],
   "source": [
    "widgets.Text()"
   ]
  },
  {
   "cell_type": "code",
   "execution_count": null,
   "id": "b0290fbc-5d43-45e6-b0c0-23f0bb474ad8",
   "metadata": {},
   "outputs": [],
   "source": [
    "widgets.Checkbox()"
   ]
  },
  {
   "cell_type": "code",
   "execution_count": null,
   "id": "e55c81de-6844-4f04-a4c4-ac9027691816",
   "metadata": {},
   "outputs": [],
   "source": [
    "widgets.HTML(\"<u>html</u>\")"
   ]
  },
  {
   "cell_type": "code",
   "execution_count": null,
   "id": "15aa4624-dec6-40b2-a328-14003e3005b2",
   "metadata": {},
   "outputs": [],
   "source": [
    "widgets.DatePicker()"
   ]
  },
  {
   "cell_type": "code",
   "execution_count": null,
   "id": "6d6b2afc-385e-4d42-bc30-7e725a31e0f5",
   "metadata": {},
   "outputs": [],
   "source": [
    "widgets.ColorPicker()"
   ]
  },
  {
   "cell_type": "code",
   "execution_count": null,
   "id": "c76b1974-2997-4c3f-a1b1-9dc74e19da94",
   "metadata": {},
   "outputs": [],
   "source": [
    "widgets.Controller()"
   ]
  }
 ],
 "metadata": {
  "kernelspec": {
   "display_name": "Python 3",
   "language": "python",
   "name": "python3"
  },
  "language_info": {
   "codemirror_mode": {
    "name": "ipython",
    "version": 3
   },
   "file_extension": ".py",
   "mimetype": "text/x-python",
   "name": "python",
   "nbconvert_exporter": "python",
   "pygments_lexer": "ipython3",
   "version": "3.9.5"
  }
 },
 "nbformat": 4,
 "nbformat_minor": 5
}
