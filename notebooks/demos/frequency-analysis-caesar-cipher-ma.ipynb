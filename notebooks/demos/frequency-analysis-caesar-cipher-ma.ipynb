{
 "cells": [
  {
   "cell_type": "code",
   "execution_count": 1,
   "metadata": {},
   "outputs": [
    {
     "name": "stdout",
     "output_type": "stream",
     "text": [
      "L is most common with a frequency of 0.15\n",
      "L shifted to E by -7\n",
      "---\n",
      "MVYAFVULKLNYLLZHUKAOPYALLUTPUBALZUVYAOLHZAHUKIFUVYAO\n",
      "fortyonedegreesandthirteenminutesnortheastandbynorth\n"
     ]
    }
   ],
   "source": [
    "import string\n",
    "\n",
    "prevailing_letter_alphabet = 'E'\n",
    "cipher = 'MVYAFVULKLNYLLZHUKAOPYALLUTPUBALZUVYAOLHZAHUKIFUVYAO'\n",
    "plain, prevailing_letter_cipher = '', ''\n",
    "occurrences = 0\n",
    "\n",
    "for char in string.ascii_uppercase:\n",
    "    c = cipher.count(char)\n",
    "    if c > occurrences:\n",
    "        occurrences = c\n",
    "        prevailing_letter_cipher = char\n",
    "\n",
    "frequency = round(cipher.count(prevailing_letter_cipher)/len(cipher), 2)\n",
    "key = ord(prevailing_letter_alphabet) - ord(prevailing_letter_cipher)\n",
    "\n",
    "for char in cipher:\n",
    "    char = ord(char)+key\n",
    "    while char < 65: char += 26\n",
    "    while char > 90: char -= 26\n",
    "    plain += chr(int(char))\n",
    "\n",
    "print(\n",
    "f\"\"\"{prevailing_letter_cipher} is most common with a frequency of {frequency}\n",
    "{prevailing_letter_cipher} shifted to {prevailing_letter_alphabet} by {key}\n",
    "---\\n{cipher}\\n{plain.lower()}\"\"\")"
   ]
  }
 ],
 "metadata": {
  "kernelspec": {
   "display_name": "Python 3 (ipykernel)",
   "language": "python",
   "name": "python3"
  },
  "language_info": {
   "codemirror_mode": {
    "name": "ipython",
    "version": 3
   },
   "file_extension": ".py",
   "mimetype": "text/x-python",
   "name": "python",
   "nbconvert_exporter": "python",
   "pygments_lexer": "ipython3",
   "version": "3.9.13"
  }
 },
 "nbformat": 4,
 "nbformat_minor": 4
}
