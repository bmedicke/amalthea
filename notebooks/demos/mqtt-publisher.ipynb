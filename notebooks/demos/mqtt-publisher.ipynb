{
 "cells": [
  {
   "cell_type": "code",
   "execution_count": null,
   "id": "0e5c24b3",
   "metadata": {},
   "outputs": [],
   "source": [
    "server = \"broker.emqx.io\"\n",
    "\n",
    "import paho.mqtt.client as mqtt\n",
    "\n",
    "# The callback for when the client receives a CONNACK response from the server.\n",
    "def on_connect(client, userdata, flags, rc):\n",
    "    print(\"Connected with result code \"+str(rc))\n",
    "\n",
    "\n",
    "\n",
    "client = mqtt.Client()\n",
    "client.on_connect = on_connect\n",
    "\n",
    "client.connect(server, 1883, 60)"
   ]
  },
  {
   "cell_type": "code",
   "execution_count": null,
   "id": "71f22ba2",
   "metadata": {},
   "outputs": [],
   "source": [
    "client.publish('jupyter-cross-notebook-communication', payload='hello jupyter!', qos=0, retain=False)"
   ]
  }
 ],
 "metadata": {
  "kernelspec": {
   "display_name": "Python 3",
   "language": "python",
   "name": "python3"
  },
  "language_info": {
   "codemirror_mode": {
    "name": "ipython",
    "version": 3
   },
   "file_extension": ".py",
   "mimetype": "text/x-python",
   "name": "python",
   "nbconvert_exporter": "python",
   "pygments_lexer": "ipython3",
   "version": "3.9.5"
  }
 },
 "nbformat": 4,
 "nbformat_minor": 5
}
