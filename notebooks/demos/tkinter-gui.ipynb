{
 "cells": [
  {
   "cell_type": "markdown",
   "id": "51b62ee1-f51e-40b4-b526-f623b6db8fb3",
   "metadata": {},
   "source": [
    "# Using Tkinter with JupyterLab\n",
    "\n",
    "`tkinter` is part of the standard library. It can be use to spawn a GUI on the server hosting the JupyterLab\n",
    "\n",
    "See: https://docs.python.org/3/library/tkinter.html#module-tkinter."
   ]
  },
  {
   "cell_type": "code",
   "execution_count": null,
   "id": "d4a9540d-0294-42b0-9a99-07679d192c11",
   "metadata": {},
   "outputs": [],
   "source": [
    "# start kernel with tk support:\n",
    "%gui tk\n",
    "\n",
    "import tkinter\n",
    "\n",
    "root = tkinter.Tk()\n",
    "root.title(\"fresh GUI\")"
   ]
  }
 ],
 "metadata": {
  "kernelspec": {
   "display_name": "Python 3",
   "language": "python",
   "name": "python3"
  },
  "language_info": {
   "codemirror_mode": {
    "name": "ipython",
    "version": 3
   },
   "file_extension": ".py",
   "mimetype": "text/x-python",
   "name": "python",
   "nbconvert_exporter": "python",
   "pygments_lexer": "ipython3",
   "version": "3.9.5"
  },
  "toc-autonumbering": true
 },
 "nbformat": 4,
 "nbformat_minor": 5
}
