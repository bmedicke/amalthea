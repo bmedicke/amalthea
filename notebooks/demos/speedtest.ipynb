{
 "cells": [
  {
   "cell_type": "markdown",
   "metadata": {},
   "source": [
    "# analysing the speedtest-cli dataset\n",
    "\n",
    "We're working in a [Jupyter notebook](https://jupyter.org/) running the [Python 3](https://www.python.org/) kernel and will be using [pandas](https://pandas.pydata.org/) as a data analysis library and [seaborn](https://seaborn.pydata.org/index.html) for advanced plots."
   ]
  },
  {
   "cell_type": "code",
   "execution_count": null,
   "metadata": {},
   "outputs": [],
   "source": [
    "import pandas\n",
    "import seaborn\n",
    "\n",
    "from matplotlib import rcParams\n",
    "seaborn.set(style=\"white\", palette=\"muted\", color_codes=True)\n",
    "\n",
    "from matplotlib import pyplot as plt\n",
    "\n",
    "%matplotlib inline"
   ]
  },
  {
   "cell_type": "markdown",
   "metadata": {},
   "source": [
    "Import our csv file as a pandas dataframe. 3 servers, 40 turns, 5 measurements each:"
   ]
  },
  {
   "cell_type": "code",
   "execution_count": null,
   "metadata": {
    "scrolled": true
   },
   "outputs": [],
   "source": [
    "data = pandas.read_csv(\"data/speedtest.csv\", parse_dates=['Timestamp'])"
   ]
  },
  {
   "cell_type": "markdown",
   "metadata": {},
   "source": [
    "Print the first couple of lines to get an overview."
   ]
  },
  {
   "cell_type": "code",
   "execution_count": null,
   "metadata": {
    "scrolled": false
   },
   "outputs": [],
   "source": [
    "# Notice Download and Upload are in bits per second (scientific notation).\n",
    "data.head()"
   ]
  },
  {
   "cell_type": "markdown",
   "metadata": {},
   "source": [
    "Print first dataset of each server."
   ]
  },
  {
   "cell_type": "code",
   "execution_count": null,
   "metadata": {
    "scrolled": true
   },
   "outputs": [],
   "source": [
    "data[:15:5] # ~~ every 50th element including the 0th."
   ]
  },
  {
   "cell_type": "markdown",
   "metadata": {},
   "source": [
    "Split up the one big dataset into 3 sets by the Sponsor of the server."
   ]
  },
  {
   "cell_type": "code",
   "execution_count": null,
   "metadata": {
    "scrolled": false
   },
   "outputs": [],
   "source": [
    "upc = data[data.Sponsor == \"UPC\"]\n",
    "drei = data[data.Sponsor == \"www.drei.at\"]\n",
    "telekom = data[data.Sponsor == \"A1 Telekom Austria AG\"]\n",
    "\n",
    "# describe() elucidates different aspects of our data:\n",
    "upc[['Download', 'Upload']].describe()"
   ]
  },
  {
   "cell_type": "markdown",
   "metadata": {},
   "source": [
    "Print round trip time info."
   ]
  },
  {
   "cell_type": "code",
   "execution_count": null,
   "metadata": {
    "scrolled": false
   },
   "outputs": [],
   "source": [
    "drei.Ping.describe()"
   ]
  },
  {
   "cell_type": "code",
   "execution_count": null,
   "metadata": {
    "scrolled": true
   },
   "outputs": [],
   "source": [
    "# Print download rate info in mebibits/s.\n",
    "upc.Download.apply(lambda x: x/2**20).describe()"
   ]
  },
  {
   "cell_type": "markdown",
   "metadata": {},
   "source": [
    "## basic plotting of up- and download (round robin capture)"
   ]
  },
  {
   "cell_type": "code",
   "execution_count": null,
   "metadata": {
    "scrolled": true
   },
   "outputs": [],
   "source": [
    "df = pandas.DataFrame({'upc down': upc.Download, \n",
    "                       'drei down': drei.Download, \n",
    "                       'telekom down': telekom.Download,\n",
    "                       'upc up': upc.Upload, \n",
    "                       'drei up': drei.Upload, \n",
    "                       'telekom up': telekom.Upload,\n",
    "                       'time': data.Timestamp})\n",
    "\n",
    "df.plot(stacked=False, style='.-', figsize=(15,4), \n",
    "        x='time', title='basic plot');"
   ]
  },
  {
   "cell_type": "markdown",
   "metadata": {},
   "source": [
    "## box and violin plot of download rate"
   ]
  },
  {
   "cell_type": "code",
   "execution_count": null,
   "metadata": {
    "scrolled": true
   },
   "outputs": [],
   "source": [
    "# in megabits/s:\n",
    "\n",
    "df = pandas.DataFrame({\n",
    "            'upc down': upc.Download.apply(lambda x: x/1000**2),\n",
    "            'drei down': drei.Download.apply(lambda x: x/1000**2),\n",
    "            'telekom down': telekom.Download.apply(lambda x: x/1000**2)})\n",
    "\n",
    "df.plot.box(figsize=(15,5));"
   ]
  },
  {
   "cell_type": "code",
   "execution_count": null,
   "metadata": {
    "scrolled": true
   },
   "outputs": [],
   "source": [
    "fig = plt.figure(figsize=(15,5))\n",
    "seaborn.violinplot(data=df);"
   ]
  },
  {
   "cell_type": "markdown",
   "metadata": {},
   "source": [
    "## histogram of download rate"
   ]
  },
  {
   "cell_type": "code",
   "execution_count": null,
   "metadata": {
    "scrolled": false
   },
   "outputs": [],
   "source": [
    "df = pandas.DataFrame({'upc down': upc.Download, \n",
    "                       'drei down': drei.Download, \n",
    "                       'telekom down': telekom.Download})\n",
    "\n",
    "\n",
    "df.plot.hist(bins=16, stacked=True, figsize=(15,5), \n",
    "             title='low resolution, stacked');\n",
    "\n",
    "df.plot.hist(alpha=.4, bins=64, stacked=False, figsize=(15,5),\n",
    "             title='high resolution, unstacked');\n"
   ]
  },
  {
   "cell_type": "code",
   "execution_count": null,
   "metadata": {
    "scrolled": true
   },
   "outputs": [],
   "source": [
    "fig = plt.figure(figsize=(15,5))\n",
    "seaborn.histplot(data.Download, \n",
    "                 bins=512, \n",
    "                 kde_kws={\"shade\": True}).set(xlim=(3.67e7, 4.94e7));"
   ]
  }
 ],
 "metadata": {
  "kernelspec": {
   "display_name": "Python 3",
   "language": "python",
   "name": "python3"
  },
  "language_info": {
   "codemirror_mode": {
    "name": "ipython",
    "version": 3
   },
   "file_extension": ".py",
   "mimetype": "text/x-python",
   "name": "python",
   "nbconvert_exporter": "python",
   "pygments_lexer": "ipython3",
   "version": "3.9.5"
  }
 },
 "nbformat": 4,
 "nbformat_minor": 2
}
