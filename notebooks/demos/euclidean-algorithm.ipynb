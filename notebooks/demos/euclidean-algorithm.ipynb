{
 "cells": [
  {
   "cell_type": "markdown",
   "metadata": {},
   "source": [
    "# Euclidean algorithm\n",
    "\n",
    "## an algorithm for the greatest common divisor\n",
    "\n",
    "[Euclidean algorithm](https://en.wikipedia.org/wiki/Euclidean_algorithm)"
   ]
  },
  {
   "cell_type": "code",
   "execution_count": null,
   "metadata": {
    "scrolled": true
   },
   "outputs": [],
   "source": [
    "import termcolor\n",
    "\n",
    "def color(string, i):\n",
    "    colors = list(termcolor.COLORS.keys())\n",
    "    i = i % len(colors)\n",
    "    return termcolor.colored(string, colors[i])\n",
    "\n",
    "def euclid(dividend, divisor):\n",
    "    print('dividend\\tdivisor\\t\\tcount\\t\\tdivisor\\t\\tremainder') # print header.\n",
    "    i = 0 # index used to cycle through colors.\n",
    "    \n",
    "    # make sure the dividend is no bigger than the divisor:\n",
    "    if divisor > dividend:\n",
    "        dividend, divisor = divisor, dividend\n",
    "        \n",
    "    while True:\n",
    "        quotient, remainder = divmod(dividend, divisor)\n",
    "        \n",
    "        print(color(dividend, i), 'to', color(divisor, i+1), '=', \n",
    "              quotient, '*', color(divisor, i+1), '+', color(remainder, i+2),\n",
    "              sep='\\t')\n",
    "        \n",
    "        # if our remainder is 0 then our the last dividend is our gcd:\n",
    "        if remainder == 0: break\n",
    "            \n",
    "        dividend = divisor  # our new dividend is our old divisor.\n",
    "        divisor = remainder # our new divisor is our remainder.\n",
    "        \n",
    "        # shift our colors along:\n",
    "        i = i+1\n",
    "            \n",
    "    return divisor"
   ]
  },
  {
   "cell_type": "code",
   "execution_count": null,
   "metadata": {},
   "outputs": [],
   "source": [
    "# same numbers:\n",
    "euclid(313, 313)"
   ]
  },
  {
   "cell_type": "code",
   "execution_count": null,
   "metadata": {},
   "outputs": [],
   "source": [
    "# two even numbers:\n",
    "euclid(14, 4)"
   ]
  },
  {
   "cell_type": "code",
   "execution_count": null,
   "metadata": {},
   "outputs": [],
   "source": [
    "# one even, one odd numer:\n",
    "euclid(462, 1071)"
   ]
  },
  {
   "cell_type": "code",
   "execution_count": null,
   "metadata": {
    "scrolled": true
   },
   "outputs": [],
   "source": [
    "# two big prime numbers:\n",
    "euclid(1301081, 1300727)"
   ]
  }
 ],
 "metadata": {
  "kernelspec": {
   "display_name": "Python 3",
   "language": "python",
   "name": "python3"
  },
  "language_info": {
   "codemirror_mode": {
    "name": "ipython",
    "version": 3
   },
   "file_extension": ".py",
   "mimetype": "text/x-python",
   "name": "python",
   "nbconvert_exporter": "python",
   "pygments_lexer": "ipython3",
   "version": "3.9.5"
  }
 },
 "nbformat": 4,
 "nbformat_minor": 2
}
