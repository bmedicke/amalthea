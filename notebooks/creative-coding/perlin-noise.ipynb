{
 "cells": [
  {
   "cell_type": "code",
   "execution_count": null,
   "metadata": {
    "scrolled": true
   },
   "outputs": [],
   "source": [
    "import matplotlib.pyplot as plt\n",
    "import numpy as np\n",
    "import perlin_numpy\n",
    "from scipy.spatial import Voronoi, voronoi_plot_2d\n",
    "%matplotlib widget\n",
    "\n",
    "#plt.rcParams['figure.figsize'] = [16,10]"
   ]
  },
  {
   "cell_type": "code",
   "execution_count": null,
   "metadata": {
    "scrolled": false
   },
   "outputs": [],
   "source": [
    "noise = perlin_numpy.generate_perlin_noise_2d((300, 50), (1,1));\n",
    "\n",
    "plt.style.use('dark_background')\n",
    "plt.axis('off')\n",
    "\n",
    "fig = plt.figure(1)\n",
    "fig.tight_layout()\n",
    "_ = plt.plot(noise, linewidth=1)\n",
    "\n",
    "plt.show()"
   ]
  },
  {
   "cell_type": "code",
   "execution_count": null,
   "metadata": {},
   "outputs": [],
   "source": [
    "# run this to save the plot.\n",
    "fig.savefig(\"perlin-noise.svg\", bbox_inches='tight', pad_inches = 0, dpi=200, transparent=False)"
   ]
  }
 ],
 "metadata": {
  "kernelspec": {
   "display_name": "Python 3",
   "language": "python",
   "name": "python3"
  },
  "language_info": {
   "codemirror_mode": {
    "name": "ipython",
    "version": 3
   },
   "file_extension": ".py",
   "mimetype": "text/x-python",
   "name": "python",
   "nbconvert_exporter": "python",
   "pygments_lexer": "ipython3",
   "version": "3.9.5"
  }
 },
 "nbformat": 4,
 "nbformat_minor": 4
}
